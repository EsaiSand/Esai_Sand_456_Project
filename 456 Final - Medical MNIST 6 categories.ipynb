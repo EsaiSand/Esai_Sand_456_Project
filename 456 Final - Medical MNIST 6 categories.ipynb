{
 "cells": [
  {
   "cell_type": "code",
   "execution_count": 1,
   "id": "18cdebf7",
   "metadata": {},
   "outputs": [],
   "source": [
    "import tensorflow as tf\n",
    "from tensorflow import keras\n",
    "import sklearn\n",
    "import numpy as np\n",
    "np.random.seed(42)\n",
    "import matplotlib as mpl\n",
    "import matplotlib.pyplot as plt"
   ]
  },
  {
   "cell_type": "code",
   "execution_count": 2,
   "id": "0c3a5318",
   "metadata": {},
   "outputs": [],
   "source": [
    "categories = ['AbdomenCT', 'ChestCT', 'ChestXR', 'HandXR', 'HeadCT', 'BreastMRI'] # 6 categories of scans\n",
    "images = [] # where image data set will be loading into (x)\n",
    "labels = [] # where image labels will be tracked (y)"
   ]
  },
  {
   "cell_type": "markdown",
   "id": "e4d85017",
   "metadata": {},
   "source": [
    "# Loading data"
   ]
  },
  {
   "cell_type": "markdown",
   "id": "a480c014",
   "metadata": {},
   "source": [
    "### Converting scan images to numpy arrays"
   ]
  },
  {
   "cell_type": "code",
   "execution_count": 3,
   "id": "b2fe3e2a",
   "metadata": {},
   "outputs": [
    {
     "name": "stdout",
     "output_type": "stream",
     "text": [
      "Converted all images:\n",
      "shape=(58954, 64, 64)\n",
      "dtype=uint8\n"
     ]
    }
   ],
   "source": [
    "from PIL import Image\n",
    "import random\n",
    "\n",
    "for j in range(5):\n",
    "    for i in range(10000):\n",
    "        name = str(i).zfill(6) + '.jpeg'\n",
    "        img = np.asarray(Image.open(f\"raw/{categories[j]}/{name}\"))\n",
    "        images.append(img)\n",
    "        labels.append(j)\n",
    "\n",
    "for i in range(8954):\n",
    "    name = str(i).zfill(6) + '.jpeg'\n",
    "    img = np.asarray(Image.open(f\"raw/BreastMRI/{name}\"))\n",
    "    images.append(img)\n",
    "    labels.append(5)\n",
    "\n",
    "images = np.array(images)\n",
    "labels = np.array(labels)\n",
    "\n",
    "print(f\"Converted all images:\\nshape={images.shape}\\ndtype={images.dtype}\")"
   ]
  },
  {
   "cell_type": "markdown",
   "id": "04c62cb6",
   "metadata": {},
   "source": [
    "### Flipping half of all hand x-rays over vertical axis"
   ]
  },
  {
   "cell_type": "code",
   "execution_count": 4,
   "id": "9d070d66",
   "metadata": {},
   "outputs": [],
   "source": [
    "for i in range(30000, 35000):\n",
    "    images[i] = np.flip(images[i], axis=1).copy()"
   ]
  },
  {
   "cell_type": "markdown",
   "id": "e5bcbb3d",
   "metadata": {},
   "source": [
    "### Shuffling images"
   ]
  },
  {
   "cell_type": "code",
   "execution_count": 5,
   "id": "26781e7d",
   "metadata": {},
   "outputs": [],
   "source": [
    "random.seed(1)\n",
    "count = len(images) - 1\n",
    "for i in range(count*10):\n",
    "    index = i % len(images)\n",
    "    random_index = random.randint(0, count)\n",
    "    \n",
    "    temp = images[random_index].copy()\n",
    "    images[random_index] = images[index].copy()\n",
    "    images[index] = temp.copy()\n",
    "    \n",
    "    temp = labels[random_index]\n",
    "    labels[random_index] = labels[index]\n",
    "    labels[index] = temp"
   ]
  },
  {
   "cell_type": "markdown",
   "id": "12c1449d",
   "metadata": {},
   "source": [
    "### Partitioning Data into Training, Validation, and Testing Data"
   ]
  },
  {
   "cell_type": "code",
   "execution_count": 6,
   "id": "e50f4692",
   "metadata": {},
   "outputs": [
    {
     "name": "stdout",
     "output_type": "stream",
     "text": [
      "Training Data: \t\tx :: (35372, 64, 64)\t\ty :: (35372,)\n",
      "Validation Data: \tx :: (11790, 64, 64)\t\ty :: (11790,)\n",
      "Testing Data: \t\tx :: (11792, 64, 64)\t\ty :: (11792,)\n",
      "\n",
      "-------------- Data is ready for model --------------\n"
     ]
    }
   ],
   "source": [
    "# Doing a 60/20/20 split\n",
    "train_end = int(len(images) * 0.6)\n",
    "valid_end = int(train_end + len(images) * 0.2)\n",
    "test_end = len(images)\n",
    "\n",
    "x_train, y_train = (images[:train_end], labels[:train_end])\n",
    "x_valid, y_valid = (images[train_end:valid_end], labels[train_end:valid_end])\n",
    "x_test, y_test = (images[valid_end:test_end], labels[valid_end:test_end])\n",
    "\n",
    "print(f\"Training Data: \\t\\tx :: {x_train.shape}\\t\\ty :: {y_train.shape}\")\n",
    "print(f\"Validation Data: \\tx :: {x_valid.shape}\\t\\ty :: {y_valid.shape}\")\n",
    "print(f\"Testing Data: \\t\\tx :: {x_test.shape}\\t\\ty :: {y_test.shape}\")\n",
    "print(\"\\n-------------- Data is ready for model --------------\")"
   ]
  },
  {
   "cell_type": "markdown",
   "id": "23b4859e",
   "metadata": {},
   "source": [
    "# Building CNN model"
   ]
  },
  {
   "cell_type": "code",
   "execution_count": 34,
   "id": "5bb89ff0",
   "metadata": {
    "scrolled": true
   },
   "outputs": [],
   "source": [
    "layers = tf.keras.layers\n",
    "model = tf.keras.models.Sequential()\n",
    "\n",
    "model.add(layers.Conv2D(filters=64, kernel_size=7, activation=\"relu\", padding=\"valid\", input_shape=[64,64,1]))\n",
    "\n",
    "model.add(layers.MaxPool2D(pool_size=2, strides=2))\n",
    "model.add(layers.Conv2D(filters=64, kernel_size=3, activation=\"relu\", padding=\"same\"))\n",
    "model.add(layers.Conv2D(filters=64, kernel_size=3, activation=\"relu\", padding=\"same\"))\n",
    "\n",
    "model.add(layers.MaxPool2D(pool_size=2, strides=2))\n",
    "model.add(layers.Conv2D(filters=128, kernel_size=3, activation=\"relu\", padding=\"same\"))\n",
    "model.add(layers.Conv2D(filters=128, kernel_size=3, activation=\"relu\", padding=\"same\"))\n",
    "\n",
    "model.add(layers.Flatten())\n",
    "model.add(layers.Dense(units=32, activation=\"relu\"))\n",
    "layers.Dropout(0.5)\n",
    "model.add(layers.Dense(units=16, activation=\"relu\"))\n",
    "layers.Dropout(0.5)\n",
    "model.add(layers.Dense(units=6, activation=\"softmax\"))"
   ]
  },
  {
   "cell_type": "code",
   "execution_count": 35,
   "id": "82de003f",
   "metadata": {},
   "outputs": [
    {
     "name": "stdout",
     "output_type": "stream",
     "text": [
      "Model: \"sequential_2\"\n",
      "_________________________________________________________________\n",
      " Layer (type)                Output Shape              Param #   \n",
      "=================================================================\n",
      " conv2d_12 (Conv2D)          (None, 58, 58, 64)        3200      \n",
      "                                                                 \n",
      " max_pooling2d_6 (MaxPooling  (None, 29, 29, 64)       0         \n",
      " 2D)                                                             \n",
      "                                                                 \n",
      " conv2d_13 (Conv2D)          (None, 29, 29, 64)        36928     \n",
      "                                                                 \n",
      " conv2d_14 (Conv2D)          (None, 29, 29, 64)        36928     \n",
      "                                                                 \n",
      " max_pooling2d_7 (MaxPooling  (None, 14, 14, 64)       0         \n",
      " 2D)                                                             \n",
      "                                                                 \n",
      " conv2d_15 (Conv2D)          (None, 14, 14, 128)       73856     \n",
      "                                                                 \n",
      " conv2d_16 (Conv2D)          (None, 14, 14, 128)       147584    \n",
      "                                                                 \n",
      " flatten_2 (Flatten)         (None, 25088)             0         \n",
      "                                                                 \n",
      " dense_6 (Dense)             (None, 32)                802848    \n",
      "                                                                 \n",
      " dense_7 (Dense)             (None, 16)                528       \n",
      "                                                                 \n",
      " dense_8 (Dense)             (None, 6)                 102       \n",
      "                                                                 \n",
      "=================================================================\n",
      "Total params: 1,101,974\n",
      "Trainable params: 1,101,974\n",
      "Non-trainable params: 0\n",
      "_________________________________________________________________\n"
     ]
    }
   ],
   "source": [
    "model.summary()"
   ]
  },
  {
   "cell_type": "code",
   "execution_count": 36,
   "id": "7032c93e",
   "metadata": {},
   "outputs": [],
   "source": [
    "model.compile(loss=\"sparse_categorical_crossentropy\",\n",
    "              optimizer=\"adam\",\n",
    "              metrics=[\"accuracy\"])"
   ]
  },
  {
   "cell_type": "code",
   "execution_count": 37,
   "id": "63e2fb0a",
   "metadata": {},
   "outputs": [
    {
     "name": "stdout",
     "output_type": "stream",
     "text": [
      "Epoch 1/5\n",
      "277/277 [==============================] - 137s 494ms/step - loss: 0.3789 - accuracy: 0.9081 - val_loss: 0.1206 - val_accuracy: 0.9575\n",
      "Epoch 2/5\n",
      "277/277 [==============================] - 138s 498ms/step - loss: 0.0289 - accuracy: 0.9930 - val_loss: 0.0228 - val_accuracy: 0.9942\n",
      "Epoch 3/5\n",
      "277/277 [==============================] - 143s 517ms/step - loss: 0.0146 - accuracy: 0.9958 - val_loss: 0.0285 - val_accuracy: 0.9946\n",
      "Epoch 4/5\n",
      "277/277 [==============================] - 148s 534ms/step - loss: 0.0172 - accuracy: 0.9954 - val_loss: 0.0135 - val_accuracy: 0.9961\n",
      "Epoch 5/5\n",
      "277/277 [==============================] - 146s 527ms/step - loss: 0.0091 - accuracy: 0.9969 - val_loss: 0.0125 - val_accuracy: 0.9966\n"
     ]
    }
   ],
   "source": [
    "history = model.fit(x_train, y_train, batch_size = 128, epochs=5, validation_data=(x_valid, y_valid))"
   ]
  },
  {
   "cell_type": "code",
   "execution_count": 38,
   "id": "06f4d168",
   "metadata": {},
   "outputs": [
    {
     "name": "stdout",
     "output_type": "stream",
     "text": [
      "369/369 [==============================] - 13s 35ms/step - loss: 0.0124 - accuracy: 0.9967\n"
     ]
    }
   ],
   "source": [
    "score = model.evaluate(x_test, y_test)"
   ]
  },
  {
   "cell_type": "code",
   "execution_count": 39,
   "id": "e494f523",
   "metadata": {},
   "outputs": [
    {
     "name": "stdout",
     "output_type": "stream",
     "text": [
      "Total loss on Testing Set: 0.012436643242835999\n",
      "Accuracy of Testing Set: 0.9966926574707031\n"
     ]
    }
   ],
   "source": [
    "print('Total loss on Testing Set:', score[0])\n",
    "print('Accuracy of Testing Set:', score[1])"
   ]
  },
  {
   "cell_type": "code",
   "execution_count": 40,
   "id": "a905c709",
   "metadata": {},
   "outputs": [
    {
     "name": "stdout",
     "output_type": "stream",
     "text": [
      "1/1 [==============================] - 0s 64ms/step\n"
     ]
    },
    {
     "data": {
      "text/plain": [
       "array([[0., 0., 0., 0., 1., 0.],\n",
       "       [0., 0., 0., 0., 0., 1.],\n",
       "       [0., 0., 0., 1., 0., 0.],\n",
       "       [0., 0., 0., 0., 1., 0.],\n",
       "       [0., 0., 0., 1., 0., 0.]], dtype=float32)"
      ]
     },
     "execution_count": 40,
     "metadata": {},
     "output_type": "execute_result"
    }
   ],
   "source": [
    "x_new = x_test[:5]\n",
    "y_proba = model.predict(x_new)\n",
    "y_proba.round(2)"
   ]
  },
  {
   "cell_type": "code",
   "execution_count": 41,
   "id": "e4b76bfe",
   "metadata": {},
   "outputs": [
    {
     "name": "stdout",
     "output_type": "stream",
     "text": [
      "1/1 [==============================] - 0s 27ms/step\n"
     ]
    },
    {
     "data": {
      "text/plain": [
       "array([4, 5, 3, 4, 3])"
      ]
     },
     "execution_count": 41,
     "metadata": {},
     "output_type": "execute_result"
    }
   ],
   "source": [
    "y_pred = np.argmax(model.predict(x_new), axis=-1)\n",
    "y_pred"
   ]
  },
  {
   "cell_type": "code",
   "execution_count": 42,
   "id": "04fbb4be",
   "metadata": {},
   "outputs": [
    {
     "data": {
      "image/png": "[encoded data removed]",
      "text/plain": [
       "<Figure size 1000x1000 with 5 Axes>"
      ]
     },
     "metadata": {},
     "output_type": "display_data"
    }
   ],
   "source": [
    "categories = ['AbdomenCT', 'ChestCT', 'ChestXR', 'HandXR', 'HeadCT', 'BreastMRI'] # 6 categories of scans\n",
    "\n",
    "plt.figure(figsize=(10, 10))\n",
    "for index, image in enumerate(x_new):\n",
    "    plt.subplot(1, 5, index + 1)\n",
    "    plt.imshow(image, cmap=\"binary\", interpolation=\"nearest\")\n",
    "    plt.axis('off')\n",
    "    plt.title(categories[y_test[index]], fontsize=12)\n",
    "plt.subplots_adjust(wspace=0.2, hspace=0.5)\n",
    "#save_fig('fashion_mnist_images_plot', tight_layout=False)\n",
    "plt.show()"
   ]
  },
  {
   "cell_type": "code",
   "execution_count": 8,
   "id": "20920c19",
   "metadata": {},
   "outputs": [],
   "source": [
    "cnn = tf.keras.models.Sequential() #initializing the CNN\n",
    "cnn.add(tf.keras.layers.Conv2D(filters=64, kernel_size=7, activation=\"relu\", padding = \"same\", input_shape=[64, 64, 1])) #Convolution 1\n",
    "cnn.add(tf.keras.layers.MaxPool2D(pool_size=2, strides=2)) #Pooling 1\n",
    "cnn.add(tf.keras.layers.Conv2D(filters=64, kernel_size=3, activation=\"relu\", padding = \"same\")) #Convolution 2\n",
    "cnn.add(tf.keras.layers.Conv2D(filters=64, kernel_size=3, activation=\"relu\", padding = \"same\")) #Convolution 3\n",
    "cnn.add(tf.keras.layers.MaxPool2D(pool_size=2, strides=2)) #Pooling 2\n",
    "cnn.add(tf.keras.layers.Conv2D(filters=128, kernel_size=3, activation=\"relu\", padding = \"same\")) #Convolution 4\n",
    "cnn.add(tf.keras.layers.Conv2D(filters=128, kernel_size=3, activation=\"relu\", padding = \"same\")) #Convolution 5\n",
    "cnn.add(tf.keras.layers.MaxPool2D(pool_size=2, strides=2)) #Pooling 3\n",
    "cnn.add(tf.keras.layers.Conv2D(filters=256, kernel_size=3, activation=\"relu\", padding = \"same\")) #Convolution 6\n",
    "cnn.add(tf.keras.layers.Conv2D(filters=256, kernel_size=3, activation=\"relu\", padding = \"same\")) #Convolution 7\n",
    "cnn.add(tf.keras.layers.MaxPool2D(pool_size=2, strides=2)) #Pooling 4\n",
    "cnn.add(tf.keras.layers.Flatten()) #Flaterning\n",
    "cnn.add(tf.keras.layers.Dense(units=32, activation=\"relu\"))#Full Connection1\n",
    "tf.keras.layers.Dropout(0.5)\n",
    "cnn.add(tf.keras.layers.Dense(units=16, activation=\"relu\"))#Full Connection2\n",
    "tf.keras.layers.Dropout(0.5)\n",
    "cnn.add(tf.keras.layers.Dense(units= 6, activation= \"softmax\"))#Output layer"
   ]
  },
  {
   "cell_type": "code",
   "execution_count": 9,
   "id": "561a7a85",
   "metadata": {},
   "outputs": [
    {
     "name": "stdout",
     "output_type": "stream",
     "text": [
      "Model: \"sequential\"\n",
      "_________________________________________________________________\n",
      " Layer (type)                Output Shape              Param #   \n",
      "=================================================================\n",
      " conv2d (Conv2D)             (None, 64, 64, 64)        3200      \n",
      "                                                                 \n",
      " max_pooling2d (MaxPooling2D  (None, 32, 32, 64)       0         \n",
      " )                                                               \n",
      "                                                                 \n",
      " conv2d_1 (Conv2D)           (None, 32, 32, 64)        36928     \n",
      "                                                                 \n",
      " conv2d_2 (Conv2D)           (None, 32, 32, 64)        36928     \n",
      "                                                                 \n",
      " max_pooling2d_1 (MaxPooling  (None, 16, 16, 64)       0         \n",
      " 2D)                                                             \n",
      "                                                                 \n",
      " conv2d_3 (Conv2D)           (None, 16, 16, 128)       73856     \n",
      "                                                                 \n",
      " conv2d_4 (Conv2D)           (None, 16, 16, 128)       147584    \n",
      "                                                                 \n",
      " max_pooling2d_2 (MaxPooling  (None, 8, 8, 128)        0         \n",
      " 2D)                                                             \n",
      "                                                                 \n",
      " conv2d_5 (Conv2D)           (None, 8, 8, 256)         295168    \n",
      "                                                                 \n",
      " conv2d_6 (Conv2D)           (None, 8, 8, 256)         590080    \n",
      "                                                                 \n",
      " max_pooling2d_3 (MaxPooling  (None, 4, 4, 256)        0         \n",
      " 2D)                                                             \n",
      "                                                                 \n",
      " flatten (Flatten)           (None, 4096)              0         \n",
      "                                                                 \n",
      " dense (Dense)               (None, 32)                131104    \n",
      "                                                                 \n",
      " dense_1 (Dense)             (None, 16)                528       \n",
      "                                                                 \n",
      " dense_2 (Dense)             (None, 6)                 102       \n",
      "                                                                 \n",
      "=================================================================\n",
      "Total params: 1,315,478\n",
      "Trainable params: 1,315,478\n",
      "Non-trainable params: 0\n",
      "_________________________________________________________________\n"
     ]
    }
   ],
   "source": [
    "cnn.summary()"
   ]
  },
  {
   "cell_type": "code",
   "execution_count": 10,
   "id": "e729b40e",
   "metadata": {},
   "outputs": [],
   "source": [
    "cnn.compile(loss=\"sparse_categorical_crossentropy\",\n",
    "              optimizer=\"adam\",\n",
    "              metrics=[\"accuracy\"])"
   ]
  },
  {
   "cell_type": "code",
   "execution_count": 11,
   "id": "638eec73",
   "metadata": {
    "scrolled": true
   },
   "outputs": [
    {
     "name": "stdout",
     "output_type": "stream",
     "text": [
      "Epoch 1/5\n"
     ]
    },
    {
     "name": "stderr",
     "output_type": "stream",
     "text": [
      "2024-12-18 01:07:11.541252: W tensorflow/tsl/platform/profile_utils/cpu_utils.cc:128] Failed to get CPU frequency: 0 Hz\n"
     ]
    },
    {
     "name": "stdout",
     "output_type": "stream",
     "text": [
      "277/277 [==============================] - 222s 801ms/step - loss: 0.2851 - accuracy: 0.9014 - val_loss: 0.0350 - val_accuracy: 0.9931\n",
      "Epoch 2/5\n",
      "277/277 [==============================] - 237s 857ms/step - loss: 0.0278 - accuracy: 0.9928 - val_loss: 0.0126 - val_accuracy: 0.9959\n",
      "Epoch 3/5\n",
      "277/277 [==============================] - 241s 870ms/step - loss: 0.0950 - accuracy: 0.9805 - val_loss: 0.0505 - val_accuracy: 0.9894\n",
      "Epoch 4/5\n",
      "277/277 [==============================] - 241s 869ms/step - loss: 0.0165 - accuracy: 0.9949 - val_loss: 0.0081 - val_accuracy: 0.9965\n",
      "Epoch 5/5\n",
      "277/277 [==============================] - 242s 873ms/step - loss: 0.0118 - accuracy: 0.9958 - val_loss: 0.0072 - val_accuracy: 0.9969\n"
     ]
    }
   ],
   "source": [
    "history = cnn.fit(x_train, y_train, batch_size = 128, epochs=5, validation_data=(x_valid, y_valid))"
   ]
  },
  {
   "cell_type": "code",
   "execution_count": 12,
   "id": "0a97c87b",
   "metadata": {},
   "outputs": [
    {
     "name": "stdout",
     "output_type": "stream",
     "text": [
      "369/369 [==============================] - 22s 61ms/step - loss: 0.0095 - accuracy: 0.9970\n"
     ]
    }
   ],
   "source": [
    "score = cnn.evaluate(x_test, y_test)"
   ]
  },
  {
   "cell_type": "code",
   "execution_count": 14,
   "id": "1d03e872",
   "metadata": {},
   "outputs": [
    {
     "name": "stdout",
     "output_type": "stream",
     "text": [
      "Total loss on Testing Set: 0.0095386216416955\n"
     ]
    }
   ],
   "source": [
    "print('Total loss on Testing Set:', score[0])"
   ]
  },
  {
   "cell_type": "code",
   "execution_count": 13,
   "id": "26b559eb",
   "metadata": {},
   "outputs": [
    {
     "name": "stdout",
     "output_type": "stream",
     "text": [
      "Accuracy of Testing Set: 0.9970318675041199\n"
     ]
    }
   ],
   "source": [
    "print('Accuracy of Testing Set:', score[1])"
   ]
  },
  {
   "cell_type": "code",
   "execution_count": 26,
   "id": "67323810",
   "metadata": {},
   "outputs": [
    {
     "name": "stdout",
     "output_type": "stream",
     "text": [
      "1/1 [==============================] - 0s 45ms/step\n"
     ]
    },
    {
     "data": {
      "text/plain": [
       "array([[0., 0., 0., 0., 1., 0.],\n",
       "       [0., 0., 0., 0., 0., 1.],\n",
       "       [0., 0., 0., 1., 0., 0.],\n",
       "       [0., 0., 0., 0., 1., 0.],\n",
       "       [0., 0., 0., 1., 0., 0.],\n",
       "       [0., 0., 0., 0., 1., 0.],\n",
       "       [0., 0., 0., 0., 1., 0.],\n",
       "       [1., 0., 0., 0., 0., 0.],\n",
       "       [0., 0., 0., 1., 0., 0.],\n",
       "       [0., 0., 1., 0., 0., 0.]], dtype=float32)"
      ]
     },
     "execution_count": 26,
     "metadata": {},
     "output_type": "execute_result"
    }
   ],
   "source": [
    "x_new = x_test[:10]\n",
    "y_proba = cnn.predict(x_new)\n",
    "y_proba.round(2)"
   ]
  },
  {
   "cell_type": "code",
   "execution_count": 27,
   "id": "1be8e014",
   "metadata": {},
   "outputs": [
    {
     "name": "stdout",
     "output_type": "stream",
     "text": [
      "1/1 [==============================] - 0s 47ms/step\n"
     ]
    },
    {
     "data": {
      "text/plain": [
       "array([4, 5, 3, 4, 3, 4, 4, 0, 3, 2])"
      ]
     },
     "execution_count": 27,
     "metadata": {},
     "output_type": "execute_result"
    }
   ],
   "source": [
    "y_pred = np.argmax(cnn.predict(x_new), axis=-1)\n",
    "y_pred"
   ]
  },
  {
   "cell_type": "code",
   "execution_count": 29,
   "id": "c34170d5",
   "metadata": {},
   "outputs": [
    {
     "data": {
      "image/png": "[encoded data removed]",
      "text/plain": [
       "<Figure size 1000x1000 with 10 Axes>"
      ]
     },
     "metadata": {},
     "output_type": "display_data"
    }
   ],
   "source": [
    "categories = ['AbdomenCT', 'ChestCT', 'ChestXR', 'HandXR', 'HeadCT', 'BreastMRI'] # 6 categories of scans\n",
    "\n",
    "plt.figure(figsize=(10, 10))\n",
    "for index, image in enumerate(x_new):\n",
    "    plt.subplot(1, 10, index + 1)\n",
    "    plt.imshow(image, cmap=\"binary\", interpolation=\"nearest\")\n",
    "    plt.axis('off')\n",
    "    plt.title(categories[y_test[index]], fontsize=12)\n",
    "plt.subplots_adjust(wspace=0.2, hspace=0.5)\n",
    "#save_fig('fashion_mnist_images_plot', tight_layout=False)\n",
    "plt.show()"
   ]
  },
  {
   "cell_type": "code",
   "execution_count": null,
   "id": "4c5b59e9",
   "metadata": {},
   "outputs": [],
   "source": []
  }
 ],
 "metadata": {
  "kernelspec": {
   "display_name": "Python 3 (ipykernel)",
   "language": "python",
   "name": "python3"
  },
  "language_info": {
   "codemirror_mode": {
    "name": "ipython",
    "version": 3
   },
   "file_extension": ".py",
   "mimetype": "text/x-python",
   "name": "python",
   "nbconvert_exporter": "python",
   "pygments_lexer": "ipython3",
   "version": "3.11.5"
  }
 },
 "nbformat": 4,
 "nbformat_minor": 5
}
