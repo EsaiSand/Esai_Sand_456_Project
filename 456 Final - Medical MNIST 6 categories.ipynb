{
 "cells": [
  {
   "cell_type": "code",
   "execution_count": 1,
   "id": "8dfbdc15",
   "metadata": {},
   "outputs": [],
   "source": [
    "import tensorflow as tf\n",
    "from tensorflow import keras\n",
    "import sklearn\n",
    "import numpy as np\n",
    "np.random.seed(42)\n",
    "import matplotlib as mpl\n",
    "import matplotlib.pyplot as plt"
   ]
  },
  {
   "cell_type": "code",
   "execution_count": 2,
   "id": "b503a158",
   "metadata": {},
   "outputs": [],
   "source": [
    "categories = ['AbdomenCT', 'ChestCT', 'ChestXR', 'HandXR', 'HeadCT', 'BreastMRI'] # 6 categories of scans\n",
    "images = [] # where image data set will be loading into (x)\n",
    "labels = [] # where image labels will be tracked (y)"
   ]
  },
  {
   "cell_type": "markdown",
   "id": "cac91a86",
   "metadata": {},
   "source": [
    "# Loading data"
   ]
  },
  {
   "cell_type": "markdown",
   "id": "cf5ec58f",
   "metadata": {},
   "source": [
    "### Converting scan images to numpy arrays"
   ]
  },
  {
   "cell_type": "code",
   "execution_count": 3,
   "id": "3f833f3b",
   "metadata": {},
   "outputs": [
    {
     "name": "stdout",
     "output_type": "stream",
     "text": [
      "Converted all images:\n",
      "shape=(58954, 64, 64)\n",
      "dtype=uint8\n"
     ]
    }
   ],
   "source": [
    "from PIL import Image\n",
    "import random\n",
    "\n",
    "for j in range(5):\n",
    "    for i in range(10000):\n",
    "        name = str(i).zfill(6) + '.jpeg'\n",
    "        img = np.asarray(Image.open(f\"raw/{categories[j]}/{name}\"))\n",
    "        images.append(img)\n",
    "        labels.append(j)\n",
    "\n",
    "for i in range(8954):\n",
    "    name = str(i).zfill(6) + '.jpeg'\n",
    "    img = np.asarray(Image.open(f\"raw/BreastMRI/{name}\"))\n",
    "    images.append(img)\n",
    "    labels.append(5)\n",
    "\n",
    "images = np.array(images)\n",
    "labels = np.array(labels)\n",
    "\n",
    "print(f\"Converted all images:\\nshape={images.shape}\\ndtype={images.dtype}\")"
   ]
  },
  {
   "cell_type": "markdown",
   "id": "3d413218",
   "metadata": {},
   "source": [
    "### Flipping half of all hand x-rays over vertical axis"
   ]
  },
  {
   "cell_type": "code",
   "execution_count": 4,
   "id": "c82897b3",
   "metadata": {},
   "outputs": [],
   "source": [
    "for i in range(30000, 35000):\n",
    "    images[i] = np.flip(images[i], axis=1).copy()"
   ]
  },
  {
   "cell_type": "markdown",
   "id": "c8bcb013",
   "metadata": {},
   "source": [
    "### Shuffling images"
   ]
  },
  {
   "cell_type": "code",
   "execution_count": 5,
   "id": "57d66970",
   "metadata": {},
   "outputs": [],
   "source": [
    "random.seed(1)\n",
    "count = len(images) - 1\n",
    "for i in range(count*10):\n",
    "    index = i % len(images)\n",
    "    random_index = random.randint(0, count)\n",
    "    \n",
    "    temp = images[random_index].copy()\n",
    "    images[random_index] = images[index].copy()\n",
    "    images[index] = temp.copy()\n",
    "    \n",
    "    temp = labels[random_index]\n",
    "    labels[random_index] = labels[index]\n",
    "    labels[index] = temp"
   ]
  },
  {
   "cell_type": "markdown",
   "id": "496af631",
   "metadata": {},
   "source": [
    "### Partitioning Data into Training, Validation, and Testing Data"
   ]
  },
  {
   "cell_type": "code",
   "execution_count": 6,
   "id": "7f2ff8b0",
   "metadata": {},
   "outputs": [
    {
     "name": "stdout",
     "output_type": "stream",
     "text": [
      "Training Data: \t\tx :: (35372, 64, 64)\t\ty :: (35372,)\n",
      "Validation Data: \tx :: (11790, 64, 64)\t\ty :: (11790,)\n",
      "Testing Data: \t\tx :: (11792, 64, 64)\t\ty :: (11792,)\n",
      "\n",
      "-------------- Data is ready for model --------------\n"
     ]
    }
   ],
   "source": [
    "# Doing a 60/20/20 split\n",
    "train_end = int(len(images) * 0.6)\n",
    "valid_end = int(train_end + len(images) * 0.2)\n",
    "test_end = len(images)\n",
    "\n",
    "x_train, y_train = (images[:train_end], labels[:train_end])\n",
    "x_valid, y_valid = (images[train_end:valid_end], labels[train_end:valid_end])\n",
    "x_test, y_test = (images[valid_end:test_end], labels[valid_end:test_end])\n",
    "\n",
    "print(f\"Training Data: \\t\\tx :: {x_train.shape}\\t\\ty :: {y_train.shape}\")\n",
    "print(f\"Validation Data: \\tx :: {x_valid.shape}\\t\\ty :: {y_valid.shape}\")\n",
    "print(f\"Testing Data: \\t\\tx :: {x_test.shape}\\t\\ty :: {y_test.shape}\")\n",
    "print(\"\\n-------------- Data is ready for model --------------\")"
   ]
  },
  {
   "cell_type": "markdown",
   "id": "41c58708",
   "metadata": {},
   "source": [
    "# Building CNN model"
   ]
  },
  {
   "cell_type": "code",
   "execution_count": 7,
   "id": "4d9814a6",
   "metadata": {
    "scrolled": true
   },
   "outputs": [],
   "source": [
    "layers = tf.keras.layers\n",
    "model = tf.keras.models.Sequential()\n",
    "\n",
    "model.add(layers.Conv2D(filters=64, kernel_size=7, activation=\"relu\", padding=\"valid\", input_shape=[64,64,1]))\n",
    "\n",
    "model.add(layers.MaxPool2D(pool_size=2, strides=2))\n",
    "model.add(layers.Conv2D(filters=64, kernel_size=3, activation=\"relu\", padding=\"same\"))\n",
    "model.add(layers.Conv2D(filters=64, kernel_size=3, activation=\"relu\", padding=\"same\"))\n",
    "\n",
    "model.add(layers.MaxPool2D(pool_size=2, strides=2))\n",
    "model.add(layers.Conv2D(filters=128, kernel_size=3, activation=\"relu\", padding=\"same\"))\n",
    "model.add(layers.Conv2D(filters=128, kernel_size=3, activation=\"relu\", padding=\"same\"))\n",
    "\n",
    "model.add(layers.Flatten())\n",
    "model.add(layers.Dense(units=32, activation=\"relu\"))\n",
    "layers.Dropout(0.5)\n",
    "model.add(layers.Dense(units=16, activation=\"relu\"))\n",
    "layers.Dropout(0.5)\n",
    "model.add(layers.Dense(units=6, activation=\"softmax\"))"
   ]
  },
  {
   "cell_type": "code",
   "execution_count": 8,
   "id": "e3c2f041",
   "metadata": {},
   "outputs": [
    {
     "name": "stdout",
     "output_type": "stream",
     "text": [
      "Model: \"sequential\"\n",
      "_________________________________________________________________\n",
      " Layer (type)                Output Shape              Param #   \n",
      "=================================================================\n",
      " conv2d (Conv2D)             (None, 58, 58, 64)        3200      \n",
      "                                                                 \n",
      " max_pooling2d (MaxPooling2D  (None, 29, 29, 64)       0         \n",
      " )                                                               \n",
      "                                                                 \n",
      " conv2d_1 (Conv2D)           (None, 29, 29, 64)        36928     \n",
      "                                                                 \n",
      " conv2d_2 (Conv2D)           (None, 29, 29, 64)        36928     \n",
      "                                                                 \n",
      " max_pooling2d_1 (MaxPooling  (None, 14, 14, 64)       0         \n",
      " 2D)                                                             \n",
      "                                                                 \n",
      " conv2d_3 (Conv2D)           (None, 14, 14, 128)       73856     \n",
      "                                                                 \n",
      " conv2d_4 (Conv2D)           (None, 14, 14, 128)       147584    \n",
      "                                                                 \n",
      " flatten (Flatten)           (None, 25088)             0         \n",
      "                                                                 \n",
      " dense (Dense)               (None, 32)                802848    \n",
      "                                                                 \n",
      " dense_1 (Dense)             (None, 16)                528       \n",
      "                                                                 \n",
      " dense_2 (Dense)             (None, 6)                 102       \n",
      "                                                                 \n",
      "=================================================================\n",
      "Total params: 1,101,974\n",
      "Trainable params: 1,101,974\n",
      "Non-trainable params: 0\n",
      "_________________________________________________________________\n"
     ]
    }
   ],
   "source": [
    "model.summary()"
   ]
  },
  {
   "cell_type": "code",
   "execution_count": 9,
   "id": "8ed65046",
   "metadata": {},
   "outputs": [],
   "source": [
    "model.compile(loss=\"sparse_categorical_crossentropy\",\n",
    "              optimizer=\"adam\",\n",
    "              metrics=[\"accuracy\"])"
   ]
  },
  {
   "cell_type": "markdown",
   "id": "ca548af4",
   "metadata": {},
   "source": [
    "# Training Model"
   ]
  },
  {
   "cell_type": "code",
   "execution_count": 10,
   "id": "54e5453f",
   "metadata": {},
   "outputs": [
    {
     "name": "stdout",
     "output_type": "stream",
     "text": [
      "Epoch 1/5\n"
     ]
    },
    {
     "name": "stderr",
     "output_type": "stream",
     "text": [
      "2024-12-18 12:56:58.876280: W tensorflow/tsl/platform/profile_utils/cpu_utils.cc:128] Failed to get CPU frequency: 0 Hz\n"
     ]
    },
    {
     "name": "stdout",
     "output_type": "stream",
     "text": [
      "277/277 [==============================] - 130s 468ms/step - loss: 0.3660 - accuracy: 0.9199 - val_loss: 0.0402 - val_accuracy: 0.9925\n",
      "Epoch 2/5\n",
      "277/277 [==============================] - 144s 522ms/step - loss: 0.0246 - accuracy: 0.9938 - val_loss: 0.0497 - val_accuracy: 0.9845\n",
      "Epoch 3/5\n",
      "277/277 [==============================] - 147s 533ms/step - loss: 0.0221 - accuracy: 0.9940 - val_loss: 0.0107 - val_accuracy: 0.9962\n",
      "Epoch 4/5\n",
      "277/277 [==============================] - 150s 541ms/step - loss: 0.0101 - accuracy: 0.9966 - val_loss: 0.0123 - val_accuracy: 0.9963\n",
      "Epoch 5/5\n",
      "277/277 [==============================] - 151s 544ms/step - loss: 0.0234 - accuracy: 0.9931 - val_loss: 0.0268 - val_accuracy: 0.9936\n"
     ]
    }
   ],
   "source": [
    "history = model.fit(x_train, y_train, batch_size = 128, epochs=5, validation_data=(x_valid, y_valid))"
   ]
  },
  {
   "cell_type": "code",
   "execution_count": 11,
   "id": "60dbc4a0",
   "metadata": {},
   "outputs": [
    {
     "name": "stdout",
     "output_type": "stream",
     "text": [
      "369/369 [==============================] - 15s 42ms/step - loss: 0.0223 - accuracy: 0.9942\n"
     ]
    }
   ],
   "source": [
    "score = model.evaluate(x_test, y_test)"
   ]
  },
  {
   "cell_type": "code",
   "execution_count": 12,
   "id": "dbf110e5",
   "metadata": {
    "scrolled": true
   },
   "outputs": [
    {
     "name": "stdout",
     "output_type": "stream",
     "text": [
      "Total loss on Testing Set: 0.02230694703757763\n",
      "Accuracy of Testing Set: 0.9942333698272705\n"
     ]
    }
   ],
   "source": [
    "print('Total loss on Testing Set:', score[0])\n",
    "print('Accuracy of Testing Set:', score[1])"
   ]
  },
  {
   "cell_type": "markdown",
   "id": "55363006",
   "metadata": {},
   "source": [
    "# Testing Model"
   ]
  },
  {
   "cell_type": "code",
   "execution_count": 13,
   "id": "71185d4f",
   "metadata": {},
   "outputs": [
    {
     "name": "stdout",
     "output_type": "stream",
     "text": [
      "1/1 [==============================] - 0s 82ms/step\n"
     ]
    },
    {
     "data": {
      "text/plain": [
       "array([[0., 0., 0., 0., 1., 0.],\n",
       "       [0., 0., 0., 0., 0., 1.],\n",
       "       [0., 0., 0., 1., 0., 0.],\n",
       "       [0., 0., 0., 0., 1., 0.],\n",
       "       [0., 0., 0., 1., 0., 0.]], dtype=float32)"
      ]
     },
     "execution_count": 13,
     "metadata": {},
     "output_type": "execute_result"
    }
   ],
   "source": [
    "x_new = x_test[:5]\n",
    "y_proba = model.predict(x_new)\n",
    "y_proba.round(2)"
   ]
  },
  {
   "cell_type": "code",
   "execution_count": 14,
   "id": "9b45d930",
   "metadata": {},
   "outputs": [
    {
     "name": "stdout",
     "output_type": "stream",
     "text": [
      "1/1 [==============================] - 0s 17ms/step\n"
     ]
    },
    {
     "data": {
      "text/plain": [
       "array([4, 5, 3, 4, 3])"
      ]
     },
     "execution_count": 14,
     "metadata": {},
     "output_type": "execute_result"
    }
   ],
   "source": [
    "y_pred = np.argmax(model.predict(x_new), axis=-1)\n",
    "y_pred"
   ]
  },
  {
   "cell_type": "code",
   "execution_count": 15,
   "id": "b462efb0",
   "metadata": {},
   "outputs": [
    {
     "data": {
      "image/png": "[encoded data removed]",
      "text/plain": [
       "<Figure size 1000x1000 with 5 Axes>"
      ]
     },
     "metadata": {},
     "output_type": "display_data"
    }
   ],
   "source": [
    "categories = ['AbdomenCT', 'ChestCT', 'ChestXR', 'HandXR', 'HeadCT', 'BreastMRI'] # 6 categories of scans\n",
    "\n",
    "plt.figure(figsize=(10, 10))\n",
    "for index, image in enumerate(x_new):\n",
    "    plt.subplot(1, 5, index + 1)\n",
    "    plt.imshow(image, cmap=\"binary\", interpolation=\"nearest\")\n",
    "    plt.axis('off')\n",
    "    plt.title(categories[y_test[index]], fontsize=12)\n",
    "plt.subplots_adjust(wspace=0.2, hspace=0.5)\n",
    "#save_fig('fashion_mnist_images_plot', tight_layout=False)\n",
    "plt.show()"
   ]
  },
  {
   "cell_type": "code",
   "execution_count": null,
   "id": "12a14130",
   "metadata": {},
   "outputs": [],
   "source": []
  }
 ],
 "metadata": {
  "kernelspec": {
   "display_name": "Python 3 (ipykernel)",
   "language": "python",
   "name": "python3"
  },
  "language_info": {
   "codemirror_mode": {
    "name": "ipython",
    "version": 3
   },
   "file_extension": ".py",
   "mimetype": "text/x-python",
   "name": "python",
   "nbconvert_exporter": "python",
   "pygments_lexer": "ipython3",
   "version": "3.11.5"
  }
 },
 "nbformat": 4,
 "nbformat_minor": 5
}
